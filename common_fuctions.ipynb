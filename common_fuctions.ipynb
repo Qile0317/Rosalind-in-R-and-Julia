{
 "cells": [
  {
   "attachments": {},
   "cell_type": "markdown",
   "metadata": {},
   "source": [
    "Reverse complement"
   ]
  },
  {
   "cell_type": "code",
   "execution_count": 3,
   "metadata": {},
   "outputs": [
    {
     "data": {
      "text/plain": [
       "revc (generic function with 1 method)"
      ]
     },
     "execution_count": 3,
     "metadata": {},
     "output_type": "execute_result"
    }
   ],
   "source": [
    "function revc(seq::String)\n",
    "    revcomp_dict = Dict{Char,String}('A'=>\"T\",'T'=>\"A\",'G'=>\"C\",'C'=>\"G\")\n",
    "    revcomp = \"\"\n",
    "    for nt in seq; revcomp = revcomp_dict[nt] * revcomp end\n",
    "    println(revcomp)\n",
    "end"
   ]
  },
  {
   "attachments": {},
   "cell_type": "markdown",
   "metadata": {},
   "source": [
    "Get dna sequences vector from fasta file"
   ]
  },
  {
   "cell_type": "code",
   "execution_count": 4,
   "metadata": {},
   "outputs": [
    {
     "data": {
      "text/plain": [
       "get_seqs (generic function with 1 method)"
      ]
     },
     "execution_count": 4,
     "metadata": {},
     "output_type": "execute_result"
    }
   ],
   "source": [
    "function get_seqs(fasta_file_location::String)\n",
    "    fasta_file = readlines(fasta_file_location)\n",
    "    output = String[]\n",
    "    curr_seq = \"\"\n",
    "    for i in 1:length(fasta_file)\n",
    "        if i != 1\n",
    "            if fasta_file[i][1] == '>'\n",
    "                push!(output, curr_seq)\n",
    "                curr_seq = \"\"\n",
    "            else\n",
    "                curr_seq *= fasta_file[i]\n",
    "            end\n",
    "        end\n",
    "    end\n",
    "    return output\n",
    "end"
   ]
  }
 ],
 "metadata": {
  "kernelspec": {
   "display_name": "Julia 1.7.2",
   "language": "julia",
   "name": "julia-1.7"
  },
  "language_info": {
   "file_extension": ".jl",
   "mimetype": "application/julia",
   "name": "julia",
   "version": "1.7.2"
  },
  "orig_nbformat": 4
 },
 "nbformat": 4,
 "nbformat_minor": 2
}
