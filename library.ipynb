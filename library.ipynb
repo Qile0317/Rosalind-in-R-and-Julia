{
 "cells": [
  {
   "attachments": {},
   "cell_type": "markdown",
   "metadata": {},
   "source": [
    "### A library of commonly utilized functions in all Rosalind problems"
   ]
  },
  {
   "attachments": {},
   "cell_type": "markdown",
   "metadata": {},
   "source": [
    "Reverse complement of dna"
   ]
  },
  {
   "cell_type": "code",
   "execution_count": 3,
   "metadata": {},
   "outputs": [
    {
     "data": {
      "text/plain": [
       "revc (generic function with 1 method)"
      ]
     },
     "execution_count": 3,
     "metadata": {},
     "output_type": "execute_result"
    }
   ],
   "source": [
    "function revc(seq::String)\n",
    "    revcomp_dict = Dict{Char,String}('A'=>\"T\",'T'=>\"A\",'G'=>\"C\",'C'=>\"G\")\n",
    "    revcomp = \"\"\n",
    "    for nt in seq; revcomp = revcomp_dict[nt] * revcomp end\n",
    "    println(revcomp)\n",
    "end"
   ]
  },
  {
   "attachments": {},
   "cell_type": "markdown",
   "metadata": {},
   "source": [
    "Countmap of NTs"
   ]
  },
  {
   "cell_type": "code",
   "execution_count": 3,
   "metadata": {},
   "outputs": [
    {
     "data": {
      "text/plain": [
       "countNT (generic function with 1 method)"
      ]
     },
     "execution_count": 3,
     "metadata": {},
     "output_type": "execute_result"
    }
   ],
   "source": [
    "function countNT(seq::String)\n",
    "    NTs, counts = Dict{Char,Int64}('A'=> 1,'C' => 2,'G' => 3,'T' => 4), [0,0,0,0]\n",
    "    for nt in seq; counts[NTs[nt]] += 1 end\n",
    "    return counts\n",
    "end"
   ]
  },
  {
   "attachments": {},
   "cell_type": "markdown",
   "metadata": {},
   "source": [
    "## FASTA processing\n",
    "___\n",
    "get all sequences of a fasta file"
   ]
  },
  {
   "cell_type": "code",
   "execution_count": null,
   "metadata": {},
   "outputs": [],
   "source": [
    "function get_all_seqs(fasta_file::Vector{String})\n",
    "    output = String[]\n",
    "    curr_seq = \"\"\n",
    "    for i in 1:length(fasta_file)\n",
    "        if i != 1\n",
    "            if fasta_file[i][1] == '>'\n",
    "                push!(output, curr_seq)\n",
    "                curr_seq = \"\"\n",
    "            else\n",
    "                curr_seq *= fasta_file[i]\n",
    "            end\n",
    "        end\n",
    "    end\n",
    "    return output\n",
    "end"
   ]
  },
  {
   "attachments": {},
   "cell_type": "markdown",
   "metadata": {},
   "source": [
    "get first `n` sequences from fasta file."
   ]
  },
  {
   "cell_type": "code",
   "execution_count": 4,
   "metadata": {},
   "outputs": [
    {
     "data": {
      "text/plain": [
       "get_seqs (generic function with 2 methods)"
      ]
     },
     "execution_count": 4,
     "metadata": {},
     "output_type": "execute_result"
    }
   ],
   "source": [
    "function get_seqs(fasta_file::Vector{String}, n::Int64 = 1)\n",
    "    output, seq_count = fill(\"\", n), 0\n",
    "    for line in fasta_file\n",
    "        if seq_count > n; return output end\n",
    "        if line[1] == '>'\n",
    "            seq_count += 1\n",
    "        else\n",
    "            output[seq_count] *= line \n",
    "        end\n",
    "    end\n",
    "    return output\n",
    "end"
   ]
  }
 ],
 "metadata": {
  "kernelspec": {
   "display_name": "Julia 1.7.2",
   "language": "julia",
   "name": "julia-1.7"
  },
  "language_info": {
   "file_extension": ".jl",
   "mimetype": "application/julia",
   "name": "julia",
   "version": "1.7.2"
  },
  "orig_nbformat": 4
 },
 "nbformat": 4,
 "nbformat_minor": 2
}
